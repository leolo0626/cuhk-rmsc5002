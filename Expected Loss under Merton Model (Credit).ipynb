{
 "cells": [
  {
   "cell_type": "markdown",
   "metadata": {},
   "source": [
    "Assume the firm has a simple capital structure for single debt D, which will be maturty T. \n",
    "</br>\n",
    "<p> Denote that the firm value is <strong> V </strong>. </p>\n",
    "\n",
    "The market value of equity on maturity debt is <strong> max(V-D, 0) </strong>\n",
    "\n",
    "According to Black-Scholes formula, the market value of equity is \n",
    "\n",
    "</br>\n",
    "\n",
    "$$\n",
    "S(V) = {C}_{E}(V) = V\\Phi(x) - De^{-r\\tau} \\Phi(d_{2})\n",
    "$$\n",
    "\n",
    "where \n",
    "\n",
    "$$ \n",
    " d_{1} = \\frac {ln(\\frac {V} {D}) + (r + \\frac {\\sigma^{2}} {2} ) \\tau} {\\sigma \\sqrt {\\tau}}, \n",
    " d_{2} = d_{1} - \\sigma \\sqrt{\\tau} , \\sigma \\text{is the volatility of firm value , r is risk free rate,} \\tau \\text{ is the time of maturity}\n",
    "$$\n",
    "\n",
    "The payoff of the debt holder is \n",
    "\n",
    "$$ \n",
    "min(V, D) = D - max(D - V, 0) \n",
    "$$\n",
    "\n",
    "The present value of corporate debt\n",
    "\n",
    "$$\n",
    "B(V) = De^{-r\\tau} - P_{E}(V)\n",
    "$$\n"
   ]
  },
  {
   "cell_type": "code",
   "execution_count": 1,
   "metadata": {},
   "outputs": [
    {
     "name": "stderr",
     "output_type": "stream",
     "text": [
      "C:\\Users\\Leo Lo\\Anaconda3\\lib\\importlib\\_bootstrap.py:219: RuntimeWarning: numpy.ufunc size changed, may indicate binary incompatibility. Expected 192 from C header, got 216 from PyObject\n",
      "  return f(*args, **kwds)\n",
      "C:\\Users\\Leo Lo\\Anaconda3\\lib\\importlib\\_bootstrap.py:219: RuntimeWarning: numpy.ufunc size changed, may indicate binary incompatibility. Expected 192 from C header, got 216 from PyObject\n",
      "  return f(*args, **kwds)\n",
      "C:\\Users\\Leo Lo\\Anaconda3\\lib\\importlib\\_bootstrap.py:219: RuntimeWarning: numpy.ufunc size changed, may indicate binary incompatibility. Expected 192 from C header, got 216 from PyObject\n",
      "  return f(*args, **kwds)\n"
     ]
    }
   ],
   "source": [
    "from scipy.stats import norm\n",
    "import numpy as np"
   ]
  },
  {
   "cell_type": "code",
   "execution_count": null,
   "metadata": {},
   "outputs": [],
   "source": [
    "def bsm_price(S0, K, )"
   ]
  },
  {
   "cell_type": "markdown",
   "metadata": {},
   "source": [
    "Credit Spread under Merton 's Model\n",
    "$$\n",
    "De^{-r\\tau} - P_{E}(V) = De^{-y_{T}\\tau} \\text{, where } y_{T} \\text{ is the Yield to maturity}\n",
    "$$\n",
    "Then we have\n",
    "$$\n",
    "y_{T} = - \\frac {1} {\\tau} ln( e^{-r\\tau} \\Phi(d_{2}) + \\frac {V} {D} \\Phi (-d_{1}))\n",
    "$$\n",
    "Then credit spread will be\n",
    "$$\n",
    "y_{T} - r  = - \\frac {1} {\\tau} ln( e^{-r\\tau} \\Phi(d_{2}) + \\frac {V} {De^{-r\\tau}} \\Phi (-d_{1}))\n",
    "$$"
   ]
  },
  {
   "cell_type": "code",
   "execution_count": null,
   "metadata": {},
   "outputs": [],
   "source": []
  },
  {
   "cell_type": "markdown",
   "metadata": {},
   "source": [
    "Probability of default\n",
    "$$\n",
    "PD = Pr(V_{T} \\le D)\n",
    "$$\n",
    "Risk neutral dynamic of the firm value is assumed to follow GBM\n",
    "\n",
    "$$\n",
    "\\frac {dV} {V} = r dt + {\\sigma} dW\n",
    "$$\n",
    "Using the lto's lemma\n",
    "$$\n",
    "V_{T}  = V_{t}e^{(r-\\frac{\\sigma^{2}} {}}\n",
    "$$"
   ]
  },
  {
   "cell_type": "code",
   "execution_count": null,
   "metadata": {},
   "outputs": [],
   "source": []
  }
 ],
 "metadata": {
  "kernelspec": {
   "display_name": "Python 3",
   "language": "python",
   "name": "python3"
  },
  "language_info": {
   "codemirror_mode": {
    "name": "ipython",
    "version": 3
   },
   "file_extension": ".py",
   "mimetype": "text/x-python",
   "name": "python",
   "nbconvert_exporter": "python",
   "pygments_lexer": "ipython3",
   "version": "3.7.4"
  }
 },
 "nbformat": 4,
 "nbformat_minor": 2
}
