{
 "cells": [
  {
   "cell_type": "code",
   "execution_count": 393,
   "metadata": {},
   "outputs": [
    {
     "name": "stdout",
     "output_type": "stream",
     "text": [
      "D:\\RMSC5002\n"
     ]
    }
   ],
   "source": [
    "cd D:\\RMSC5002"
   ]
  },
  {
   "cell_type": "code",
   "execution_count": 394,
   "metadata": {},
   "outputs": [],
   "source": [
    "import warnings\n",
    "warnings.filterwarnings('ignore')"
   ]
  },
  {
   "cell_type": "code",
   "execution_count": 435,
   "metadata": {},
   "outputs": [],
   "source": [
    "import matplotlib.pyplot as plt\n",
    "import seaborn as sns\n",
    "import pandas as pd\n",
    "#import quandl\n",
    "import numpy as np\n",
    "from scipy.stats import zscore\n",
    "from sklearn.linear_model import LogisticRegression\n",
    "from pylab import rcParams\n",
    "\n",
    "from sklearn.metrics import (\n",
    "    f1_score,\n",
    "    accuracy_score,\n",
    "    recall_score,\n",
    "    precision_score,\n",
    "    confusion_matrix,\n",
    "    roc_auc_score,\n",
    "    plot_confusion_matrix,\n",
    "    classification_report,\n",
    "    precision_recall_curve\n",
    ")\n",
    "from sklearn import metrics"
   ]
  },
  {
   "cell_type": "code",
   "execution_count": 396,
   "metadata": {},
   "outputs": [],
   "source": [
    "rcParams['figure.figsize'] = 16, 9"
   ]
  },
  {
   "cell_type": "code",
   "execution_count": 397,
   "metadata": {},
   "outputs": [],
   "source": [
    "#np.set_printoptions(suppress=True)\n",
    "pd.options.display.float_format = '{:.6f}'.format"
   ]
  },
  {
   "cell_type": "markdown",
   "metadata": {},
   "source": [
    "### Read the data"
   ]
  },
  {
   "cell_type": "code",
   "execution_count": 398,
   "metadata": {},
   "outputs": [],
   "source": [
    "cr_df = pd.read_csv('credit_risk_dataset.csv')"
   ]
  },
  {
   "cell_type": "code",
   "execution_count": 399,
   "metadata": {},
   "outputs": [
    {
     "data": {
      "text/html": [
       "<div>\n",
       "<style scoped>\n",
       "    .dataframe tbody tr th:only-of-type {\n",
       "        vertical-align: middle;\n",
       "    }\n",
       "\n",
       "    .dataframe tbody tr th {\n",
       "        vertical-align: top;\n",
       "    }\n",
       "\n",
       "    .dataframe thead th {\n",
       "        text-align: right;\n",
       "    }\n",
       "</style>\n",
       "<table border=\"1\" class=\"dataframe\">\n",
       "  <thead>\n",
       "    <tr style=\"text-align: right;\">\n",
       "      <th></th>\n",
       "      <th>person_age</th>\n",
       "      <th>person_income</th>\n",
       "      <th>person_home_ownership</th>\n",
       "      <th>person_emp_length</th>\n",
       "      <th>loan_intent</th>\n",
       "      <th>loan_grade</th>\n",
       "      <th>loan_amnt</th>\n",
       "      <th>loan_int_rate</th>\n",
       "      <th>loan_status</th>\n",
       "      <th>loan_percent_income</th>\n",
       "      <th>cb_person_default_on_file</th>\n",
       "      <th>cb_person_cred_hist_length</th>\n",
       "    </tr>\n",
       "  </thead>\n",
       "  <tbody>\n",
       "    <tr>\n",
       "      <th>32576</th>\n",
       "      <td>57</td>\n",
       "      <td>53000</td>\n",
       "      <td>MORTGAGE</td>\n",
       "      <td>1.000000</td>\n",
       "      <td>PERSONAL</td>\n",
       "      <td>C</td>\n",
       "      <td>5800</td>\n",
       "      <td>13.160000</td>\n",
       "      <td>0</td>\n",
       "      <td>0.110000</td>\n",
       "      <td>N</td>\n",
       "      <td>30</td>\n",
       "    </tr>\n",
       "    <tr>\n",
       "      <th>32577</th>\n",
       "      <td>54</td>\n",
       "      <td>120000</td>\n",
       "      <td>MORTGAGE</td>\n",
       "      <td>4.000000</td>\n",
       "      <td>PERSONAL</td>\n",
       "      <td>A</td>\n",
       "      <td>17625</td>\n",
       "      <td>7.490000</td>\n",
       "      <td>0</td>\n",
       "      <td>0.150000</td>\n",
       "      <td>N</td>\n",
       "      <td>19</td>\n",
       "    </tr>\n",
       "    <tr>\n",
       "      <th>32578</th>\n",
       "      <td>65</td>\n",
       "      <td>76000</td>\n",
       "      <td>RENT</td>\n",
       "      <td>3.000000</td>\n",
       "      <td>HOMEIMPROVEMENT</td>\n",
       "      <td>B</td>\n",
       "      <td>35000</td>\n",
       "      <td>10.990000</td>\n",
       "      <td>1</td>\n",
       "      <td>0.460000</td>\n",
       "      <td>N</td>\n",
       "      <td>28</td>\n",
       "    </tr>\n",
       "    <tr>\n",
       "      <th>32579</th>\n",
       "      <td>56</td>\n",
       "      <td>150000</td>\n",
       "      <td>MORTGAGE</td>\n",
       "      <td>5.000000</td>\n",
       "      <td>PERSONAL</td>\n",
       "      <td>B</td>\n",
       "      <td>15000</td>\n",
       "      <td>11.480000</td>\n",
       "      <td>0</td>\n",
       "      <td>0.100000</td>\n",
       "      <td>N</td>\n",
       "      <td>26</td>\n",
       "    </tr>\n",
       "    <tr>\n",
       "      <th>32580</th>\n",
       "      <td>66</td>\n",
       "      <td>42000</td>\n",
       "      <td>RENT</td>\n",
       "      <td>2.000000</td>\n",
       "      <td>MEDICAL</td>\n",
       "      <td>B</td>\n",
       "      <td>6475</td>\n",
       "      <td>9.990000</td>\n",
       "      <td>0</td>\n",
       "      <td>0.150000</td>\n",
       "      <td>N</td>\n",
       "      <td>30</td>\n",
       "    </tr>\n",
       "  </tbody>\n",
       "</table>\n",
       "</div>"
      ],
      "text/plain": [
       "       person_age  person_income person_home_ownership  person_emp_length  \\\n",
       "32576          57          53000              MORTGAGE           1.000000   \n",
       "32577          54         120000              MORTGAGE           4.000000   \n",
       "32578          65          76000                  RENT           3.000000   \n",
       "32579          56         150000              MORTGAGE           5.000000   \n",
       "32580          66          42000                  RENT           2.000000   \n",
       "\n",
       "           loan_intent loan_grade  loan_amnt  loan_int_rate  loan_status  \\\n",
       "32576         PERSONAL          C       5800      13.160000            0   \n",
       "32577         PERSONAL          A      17625       7.490000            0   \n",
       "32578  HOMEIMPROVEMENT          B      35000      10.990000            1   \n",
       "32579         PERSONAL          B      15000      11.480000            0   \n",
       "32580          MEDICAL          B       6475       9.990000            0   \n",
       "\n",
       "       loan_percent_income cb_person_default_on_file  \\\n",
       "32576             0.110000                         N   \n",
       "32577             0.150000                         N   \n",
       "32578             0.460000                         N   \n",
       "32579             0.100000                         N   \n",
       "32580             0.150000                         N   \n",
       "\n",
       "       cb_person_cred_hist_length  \n",
       "32576                          30  \n",
       "32577                          19  \n",
       "32578                          28  \n",
       "32579                          26  \n",
       "32580                          30  "
      ]
     },
     "execution_count": 399,
     "metadata": {},
     "output_type": "execute_result"
    }
   ],
   "source": [
    "cr_df.tail()"
   ]
  },
  {
   "cell_type": "markdown",
   "metadata": {},
   "source": [
    "## Data Preparation"
   ]
  },
  {
   "cell_type": "markdown",
   "metadata": {},
   "source": [
    "### Finding columns that are numeric"
   ]
  },
  {
   "cell_type": "code",
   "execution_count": 400,
   "metadata": {},
   "outputs": [],
   "source": [
    "vcol = cr_df.select_dtypes(include=[\"int64\", \"float64\"]).columns.tolist()"
   ]
  },
  {
   "cell_type": "markdown",
   "metadata": {},
   "source": [
    "### Scale the columns"
   ]
  },
  {
   "cell_type": "code",
   "execution_count": 401,
   "metadata": {},
   "outputs": [],
   "source": [
    "def MinMaxScale(x):\n",
    "    return (x - min(x))/(max(x) - min(x))"
   ]
  },
  {
   "cell_type": "code",
   "execution_count": 402,
   "metadata": {},
   "outputs": [],
   "source": [
    "cr_df[vcol] = cr_df[vcol].apply(MinMaxScale)"
   ]
  },
  {
   "cell_type": "code",
   "execution_count": 403,
   "metadata": {},
   "outputs": [],
   "source": [
    "cr_df['loan_status'] = cr_df['loan_status'].astype('int')"
   ]
  },
  {
   "cell_type": "markdown",
   "metadata": {},
   "source": [
    "### Create Dummy Variables for Categorical Data"
   ]
  },
  {
   "cell_type": "code",
   "execution_count": 404,
   "metadata": {},
   "outputs": [],
   "source": [
    "data = pd.get_dummies(\n",
    "    cr_df,\n",
    "    columns=['person_home_ownership','loan_intent','loan_grade','cb_person_default_on_file'],\n",
    "    drop_first=False,\n",
    ")"
   ]
  },
  {
   "cell_type": "code",
   "execution_count": 405,
   "metadata": {},
   "outputs": [
    {
     "data": {
      "text/plain": [
       "Index(['person_age', 'person_income', 'person_emp_length', 'loan_amnt',\n",
       "       'loan_int_rate', 'loan_status', 'loan_percent_income',\n",
       "       'cb_person_cred_hist_length', 'person_home_ownership_MORTGAGE',\n",
       "       'person_home_ownership_OTHER', 'person_home_ownership_OWN',\n",
       "       'person_home_ownership_RENT', 'loan_intent_DEBTCONSOLIDATION',\n",
       "       'loan_intent_EDUCATION', 'loan_intent_HOMEIMPROVEMENT',\n",
       "       'loan_intent_MEDICAL', 'loan_intent_PERSONAL', 'loan_intent_VENTURE',\n",
       "       'loan_grade_A', 'loan_grade_B', 'loan_grade_C', 'loan_grade_D',\n",
       "       'loan_grade_E', 'loan_grade_F', 'loan_grade_G',\n",
       "       'cb_person_default_on_file_N', 'cb_person_default_on_file_Y'],\n",
       "      dtype='object')"
      ]
     },
     "execution_count": 405,
     "metadata": {},
     "output_type": "execute_result"
    }
   ],
   "source": [
    "data.columns"
   ]
  },
  {
   "cell_type": "markdown",
   "metadata": {},
   "source": [
    "### Drop some columns"
   ]
  },
  {
   "cell_type": "code",
   "execution_count": 406,
   "metadata": {},
   "outputs": [],
   "source": [
    "#data = data.drop(['person_home_ownership_OTHER','loan_intent_PERSONAL','loan_grade_G',\n",
    "#           'cb_person_default_on_file_N'],axis=1)\n",
    "data = data.drop(['cb_person_default_on_file_N'],axis=1)"
   ]
  },
  {
   "cell_type": "markdown",
   "metadata": {},
   "source": [
    "### Remove missing data"
   ]
  },
  {
   "cell_type": "code",
   "execution_count": 407,
   "metadata": {},
   "outputs": [],
   "source": [
    "data = data.dropna().reset_index().drop(['index'],axis=1)"
   ]
  },
  {
   "cell_type": "markdown",
   "metadata": {},
   "source": [
    "### Split the data for training and testing"
   ]
  },
  {
   "cell_type": "code",
   "execution_count": 408,
   "metadata": {},
   "outputs": [
    {
     "data": {
      "text/plain": [
       "loan_status\n",
       "0    22435\n",
       "1     6203\n",
       "dtype: int64"
      ]
     },
     "execution_count": 408,
     "metadata": {},
     "output_type": "execute_result"
    }
   ],
   "source": [
    "data.groupby('loan_status').size()"
   ]
  },
  {
   "cell_type": "markdown",
   "metadata": {},
   "source": [
    "**Data for class 0 is substantially larger than that for class 1.**"
   ]
  },
  {
   "cell_type": "markdown",
   "metadata": {},
   "source": [
    "We extract 70% of class 1 records and match 1-1 of class 0 records."
   ]
  },
  {
   "cell_type": "code",
   "execution_count": 409,
   "metadata": {},
   "outputs": [],
   "source": [
    "def train_test_split(data, r=0.7):\n",
    "    arr = data.index.tolist()\n",
    "    np.random.shuffle(arr)\n",
    "    m = np.floor(len(data)*r).astype('int')\n",
    "    train_idx = list(arr[:m])\n",
    "    test_idx = list(arr[m:])\n",
    "    return train_idx, test_idx"
   ]
  },
  {
   "cell_type": "code",
   "execution_count": 410,
   "metadata": {},
   "outputs": [],
   "source": [
    "train_idx1, test_idx1 = train_test_split(data[data['loan_status']==1])\n",
    "train_idx0, test_idx0 = train_test_split(data[data['loan_status']==0],r=0.2)"
   ]
  },
  {
   "cell_type": "code",
   "execution_count": 411,
   "metadata": {},
   "outputs": [
    {
     "data": {
      "text/plain": [
       "(4487, 4342)"
      ]
     },
     "execution_count": 411,
     "metadata": {},
     "output_type": "execute_result"
    }
   ],
   "source": [
    "len(train_idx0), len(train_idx1)"
   ]
  },
  {
   "cell_type": "code",
   "execution_count": 430,
   "metadata": {},
   "outputs": [],
   "source": [
    "train_data = data.loc[train_idx0+train_idx1]\n",
    "test_data1 = data.loc[test_idx1]\n",
    "test_data0 = data.loc[test_idx0]"
   ]
  },
  {
   "cell_type": "markdown",
   "metadata": {},
   "source": [
    "## Discriminant Analysis"
   ]
  },
  {
   "cell_type": "markdown",
   "metadata": {},
   "source": [
    "### Find covariance matrix of the variables"
   ]
  },
  {
   "cell_type": "code",
   "execution_count": 413,
   "metadata": {},
   "outputs": [
    {
     "data": {
      "text/html": [
       "<div>\n",
       "<style scoped>\n",
       "    .dataframe tbody tr th:only-of-type {\n",
       "        vertical-align: middle;\n",
       "    }\n",
       "\n",
       "    .dataframe tbody tr th {\n",
       "        vertical-align: top;\n",
       "    }\n",
       "\n",
       "    .dataframe thead th {\n",
       "        text-align: right;\n",
       "    }\n",
       "</style>\n",
       "<table border=\"1\" class=\"dataframe\">\n",
       "  <thead>\n",
       "    <tr style=\"text-align: right;\">\n",
       "      <th></th>\n",
       "      <th>person_age</th>\n",
       "      <th>person_income</th>\n",
       "      <th>person_emp_length</th>\n",
       "      <th>loan_amnt</th>\n",
       "      <th>loan_int_rate</th>\n",
       "      <th>loan_percent_income</th>\n",
       "      <th>cb_person_cred_hist_length</th>\n",
       "      <th>person_home_ownership_MORTGAGE</th>\n",
       "      <th>person_home_ownership_OTHER</th>\n",
       "      <th>person_home_ownership_OWN</th>\n",
       "      <th>...</th>\n",
       "      <th>loan_intent_PERSONAL</th>\n",
       "      <th>loan_intent_VENTURE</th>\n",
       "      <th>loan_grade_A</th>\n",
       "      <th>loan_grade_B</th>\n",
       "      <th>loan_grade_C</th>\n",
       "      <th>loan_grade_D</th>\n",
       "      <th>loan_grade_E</th>\n",
       "      <th>loan_grade_F</th>\n",
       "      <th>loan_grade_G</th>\n",
       "      <th>cb_person_default_on_file_Y</th>\n",
       "    </tr>\n",
       "  </thead>\n",
       "  <tbody>\n",
       "    <tr>\n",
       "      <th>person_age</th>\n",
       "      <td>0.002518</td>\n",
       "      <td>0.000051</td>\n",
       "      <td>0.000297</td>\n",
       "      <td>0.000657</td>\n",
       "      <td>0.000134</td>\n",
       "      <td>-0.000263</td>\n",
       "      <td>0.006452</td>\n",
       "      <td>0.000974</td>\n",
       "      <td>-0.000002</td>\n",
       "      <td>-0.000067</td>\n",
       "      <td>...</td>\n",
       "      <td>0.000344</td>\n",
       "      <td>-0.000296</td>\n",
       "      <td>-0.000052</td>\n",
       "      <td>-0.000278</td>\n",
       "      <td>-0.000095</td>\n",
       "      <td>0.000356</td>\n",
       "      <td>-0.000031</td>\n",
       "      <td>0.000048</td>\n",
       "      <td>0.000052</td>\n",
       "      <td>0.000296</td>\n",
       "    </tr>\n",
       "    <tr>\n",
       "      <th>person_income</th>\n",
       "      <td>0.000051</td>\n",
       "      <td>0.000059</td>\n",
       "      <td>0.000048</td>\n",
       "      <td>0.000527</td>\n",
       "      <td>0.000022</td>\n",
       "      <td>-0.000371</td>\n",
       "      <td>0.000111</td>\n",
       "      <td>0.001050</td>\n",
       "      <td>0.000012</td>\n",
       "      <td>-0.000046</td>\n",
       "      <td>...</td>\n",
       "      <td>0.000044</td>\n",
       "      <td>-0.000028</td>\n",
       "      <td>-0.000008</td>\n",
       "      <td>0.000020</td>\n",
       "      <td>-0.000098</td>\n",
       "      <td>-0.000012</td>\n",
       "      <td>0.000045</td>\n",
       "      <td>0.000040</td>\n",
       "      <td>0.000013</td>\n",
       "      <td>-0.000019</td>\n",
       "    </tr>\n",
       "    <tr>\n",
       "      <th>person_emp_length</th>\n",
       "      <td>0.000297</td>\n",
       "      <td>0.000048</td>\n",
       "      <td>0.001173</td>\n",
       "      <td>0.000808</td>\n",
       "      <td>-0.000396</td>\n",
       "      <td>-0.000312</td>\n",
       "      <td>0.000707</td>\n",
       "      <td>0.003813</td>\n",
       "      <td>-0.000036</td>\n",
       "      <td>0.000203</td>\n",
       "      <td>...</td>\n",
       "      <td>0.000079</td>\n",
       "      <td>-0.000035</td>\n",
       "      <td>0.000851</td>\n",
       "      <td>0.000177</td>\n",
       "      <td>-0.000401</td>\n",
       "      <td>-0.000345</td>\n",
       "      <td>-0.000300</td>\n",
       "      <td>-0.000040</td>\n",
       "      <td>0.000057</td>\n",
       "      <td>-0.000273</td>\n",
       "    </tr>\n",
       "    <tr>\n",
       "      <th>loan_amnt</th>\n",
       "      <td>0.000657</td>\n",
       "      <td>0.000527</td>\n",
       "      <td>0.000808</td>\n",
       "      <td>0.037878</td>\n",
       "      <td>0.005861</td>\n",
       "      <td>0.015882</td>\n",
       "      <td>0.001217</td>\n",
       "      <td>0.007873</td>\n",
       "      <td>0.000333</td>\n",
       "      <td>-0.001911</td>\n",
       "      <td>...</td>\n",
       "      <td>-0.001090</td>\n",
       "      <td>-0.000339</td>\n",
       "      <td>-0.011537</td>\n",
       "      <td>0.004300</td>\n",
       "      <td>-0.003288</td>\n",
       "      <td>0.003474</td>\n",
       "      <td>0.003914</td>\n",
       "      <td>0.002209</td>\n",
       "      <td>0.000928</td>\n",
       "      <td>0.002458</td>\n",
       "    </tr>\n",
       "    <tr>\n",
       "      <th>loan_int_rate</th>\n",
       "      <td>0.000134</td>\n",
       "      <td>0.000022</td>\n",
       "      <td>-0.000396</td>\n",
       "      <td>0.005861</td>\n",
       "      <td>0.036592</td>\n",
       "      <td>0.002498</td>\n",
       "      <td>0.000467</td>\n",
       "      <td>-0.009969</td>\n",
       "      <td>0.000193</td>\n",
       "      <td>-0.001962</td>\n",
       "      <td>...</td>\n",
       "      <td>-0.003220</td>\n",
       "      <td>-0.001032</td>\n",
       "      <td>-0.065375</td>\n",
       "      <td>-0.012195</td>\n",
       "      <td>0.018420</td>\n",
       "      <td>0.036841</td>\n",
       "      <td>0.015481</td>\n",
       "      <td>0.005002</td>\n",
       "      <td>0.001827</td>\n",
       "      <td>0.039376</td>\n",
       "    </tr>\n",
       "    <tr>\n",
       "      <th>loan_percent_income</th>\n",
       "      <td>-0.000263</td>\n",
       "      <td>-0.000371</td>\n",
       "      <td>-0.000312</td>\n",
       "      <td>0.015882</td>\n",
       "      <td>0.002498</td>\n",
       "      <td>0.021331</td>\n",
       "      <td>-0.000584</td>\n",
       "      <td>-0.015797</td>\n",
       "      <td>0.000209</td>\n",
       "      <td>0.000350</td>\n",
       "      <td>...</td>\n",
       "      <td>-0.000508</td>\n",
       "      <td>0.000656</td>\n",
       "      <td>-0.006151</td>\n",
       "      <td>0.002696</td>\n",
       "      <td>0.000529</td>\n",
       "      <td>0.000694</td>\n",
       "      <td>0.001305</td>\n",
       "      <td>0.000604</td>\n",
       "      <td>0.000323</td>\n",
       "      <td>0.001320</td>\n",
       "    </tr>\n",
       "    <tr>\n",
       "      <th>cb_person_cred_hist_length</th>\n",
       "      <td>0.006452</td>\n",
       "      <td>0.000111</td>\n",
       "      <td>0.000707</td>\n",
       "      <td>0.001217</td>\n",
       "      <td>0.000467</td>\n",
       "      <td>-0.000584</td>\n",
       "      <td>0.021382</td>\n",
       "      <td>0.001538</td>\n",
       "      <td>-0.000015</td>\n",
       "      <td>0.000025</td>\n",
       "      <td>...</td>\n",
       "      <td>0.001460</td>\n",
       "      <td>-0.000527</td>\n",
       "      <td>-0.000507</td>\n",
       "      <td>-0.000308</td>\n",
       "      <td>0.000121</td>\n",
       "      <td>0.000543</td>\n",
       "      <td>-0.000110</td>\n",
       "      <td>0.000125</td>\n",
       "      <td>0.000136</td>\n",
       "      <td>0.000725</td>\n",
       "    </tr>\n",
       "    <tr>\n",
       "      <th>person_home_ownership_MORTGAGE</th>\n",
       "      <td>0.000974</td>\n",
       "      <td>0.001050</td>\n",
       "      <td>0.003813</td>\n",
       "      <td>0.007873</td>\n",
       "      <td>-0.009969</td>\n",
       "      <td>-0.015797</td>\n",
       "      <td>0.001538</td>\n",
       "      <td>0.227521</td>\n",
       "      <td>-0.001308</td>\n",
       "      <td>-0.020139</td>\n",
       "      <td>...</td>\n",
       "      <td>-0.001005</td>\n",
       "      <td>-0.006437</td>\n",
       "      <td>0.023968</td>\n",
       "      <td>-0.003937</td>\n",
       "      <td>-0.007490</td>\n",
       "      <td>-0.010339</td>\n",
       "      <td>-0.003505</td>\n",
       "      <td>0.000838</td>\n",
       "      <td>0.000464</td>\n",
       "      <td>-0.012547</td>\n",
       "    </tr>\n",
       "    <tr>\n",
       "      <th>person_home_ownership_OTHER</th>\n",
       "      <td>-0.000002</td>\n",
       "      <td>0.000012</td>\n",
       "      <td>-0.000036</td>\n",
       "      <td>0.000333</td>\n",
       "      <td>0.000193</td>\n",
       "      <td>0.000209</td>\n",
       "      <td>-0.000015</td>\n",
       "      <td>-0.001308</td>\n",
       "      <td>0.003724</td>\n",
       "      <td>-0.000215</td>\n",
       "      <td>...</td>\n",
       "      <td>-0.000163</td>\n",
       "      <td>-0.000006</td>\n",
       "      <td>-0.000314</td>\n",
       "      <td>-0.000164</td>\n",
       "      <td>0.000174</td>\n",
       "      <td>-0.000119</td>\n",
       "      <td>0.000260</td>\n",
       "      <td>0.000177</td>\n",
       "      <td>-0.000014</td>\n",
       "      <td>0.000396</td>\n",
       "    </tr>\n",
       "    <tr>\n",
       "      <th>person_home_ownership_OWN</th>\n",
       "      <td>-0.000067</td>\n",
       "      <td>-0.000046</td>\n",
       "      <td>0.000203</td>\n",
       "      <td>-0.001911</td>\n",
       "      <td>-0.001962</td>\n",
       "      <td>0.000350</td>\n",
       "      <td>0.000025</td>\n",
       "      <td>-0.020139</td>\n",
       "      <td>-0.000215</td>\n",
       "      <td>0.054233</td>\n",
       "      <td>...</td>\n",
       "      <td>0.000831</td>\n",
       "      <td>0.006940</td>\n",
       "      <td>0.005433</td>\n",
       "      <td>-0.000958</td>\n",
       "      <td>-0.000394</td>\n",
       "      <td>-0.004202</td>\n",
       "      <td>0.000193</td>\n",
       "      <td>-0.000190</td>\n",
       "      <td>0.000118</td>\n",
       "      <td>-0.002100</td>\n",
       "    </tr>\n",
       "    <tr>\n",
       "      <th>person_home_ownership_RENT</th>\n",
       "      <td>-0.000905</td>\n",
       "      <td>-0.001017</td>\n",
       "      <td>-0.003980</td>\n",
       "      <td>-0.006295</td>\n",
       "      <td>0.011737</td>\n",
       "      <td>0.015238</td>\n",
       "      <td>-0.001548</td>\n",
       "      <td>-0.206073</td>\n",
       "      <td>-0.002201</td>\n",
       "      <td>-0.033879</td>\n",
       "      <td>...</td>\n",
       "      <td>0.000336</td>\n",
       "      <td>-0.000497</td>\n",
       "      <td>-0.029087</td>\n",
       "      <td>0.005059</td>\n",
       "      <td>0.007710</td>\n",
       "      <td>0.014660</td>\n",
       "      <td>0.003052</td>\n",
       "      <td>-0.000826</td>\n",
       "      <td>-0.000568</td>\n",
       "      <td>0.014251</td>\n",
       "    </tr>\n",
       "    <tr>\n",
       "      <th>loan_intent_DEBTCONSOLIDATION</th>\n",
       "      <td>-0.000053</td>\n",
       "      <td>0.000041</td>\n",
       "      <td>0.000239</td>\n",
       "      <td>0.002094</td>\n",
       "      <td>0.004595</td>\n",
       "      <td>0.000818</td>\n",
       "      <td>-0.000388</td>\n",
       "      <td>0.005350</td>\n",
       "      <td>0.000016</td>\n",
       "      <td>-0.007614</td>\n",
       "      <td>...</td>\n",
       "      <td>-0.029251</td>\n",
       "      <td>-0.027179</td>\n",
       "      <td>-0.008022</td>\n",
       "      <td>-0.002261</td>\n",
       "      <td>-0.000347</td>\n",
       "      <td>0.008229</td>\n",
       "      <td>0.001454</td>\n",
       "      <td>0.000838</td>\n",
       "      <td>0.000109</td>\n",
       "      <td>0.004235</td>\n",
       "    </tr>\n",
       "    <tr>\n",
       "      <th>loan_intent_EDUCATION</th>\n",
       "      <td>-0.001173</td>\n",
       "      <td>-0.000027</td>\n",
       "      <td>-0.000432</td>\n",
       "      <td>-0.001646</td>\n",
       "      <td>-0.003528</td>\n",
       "      <td>-0.000657</td>\n",
       "      <td>-0.002509</td>\n",
       "      <td>-0.002330</td>\n",
       "      <td>0.000222</td>\n",
       "      <td>0.000682</td>\n",
       "      <td>...</td>\n",
       "      <td>-0.030146</td>\n",
       "      <td>-0.028011</td>\n",
       "      <td>0.004692</td>\n",
       "      <td>0.003092</td>\n",
       "      <td>0.002779</td>\n",
       "      <td>-0.008173</td>\n",
       "      <td>-0.001546</td>\n",
       "      <td>-0.000593</td>\n",
       "      <td>-0.000252</td>\n",
       "      <td>-0.006404</td>\n",
       "    </tr>\n",
       "    <tr>\n",
       "      <th>loan_intent_HOMEIMPROVEMENT</th>\n",
       "      <td>0.000752</td>\n",
       "      <td>0.000082</td>\n",
       "      <td>-0.000141</td>\n",
       "      <td>0.000542</td>\n",
       "      <td>0.000914</td>\n",
       "      <td>-0.001581</td>\n",
       "      <td>0.001163</td>\n",
       "      <td>0.006702</td>\n",
       "      <td>-0.000114</td>\n",
       "      <td>0.001062</td>\n",
       "      <td>...</td>\n",
       "      <td>-0.019979</td>\n",
       "      <td>-0.018564</td>\n",
       "      <td>-0.003025</td>\n",
       "      <td>0.000265</td>\n",
       "      <td>0.001502</td>\n",
       "      <td>0.000309</td>\n",
       "      <td>0.000290</td>\n",
       "      <td>0.000558</td>\n",
       "      <td>0.000099</td>\n",
       "      <td>0.001180</td>\n",
       "    </tr>\n",
       "    <tr>\n",
       "      <th>loan_intent_MEDICAL</th>\n",
       "      <td>0.000425</td>\n",
       "      <td>-0.000113</td>\n",
       "      <td>0.000289</td>\n",
       "      <td>0.000441</td>\n",
       "      <td>0.002271</td>\n",
       "      <td>0.001271</td>\n",
       "      <td>0.000801</td>\n",
       "      <td>-0.002279</td>\n",
       "      <td>0.000044</td>\n",
       "      <td>-0.001901</td>\n",
       "      <td>...</td>\n",
       "      <td>-0.033000</td>\n",
       "      <td>-0.030663</td>\n",
       "      <td>-0.002747</td>\n",
       "      <td>-0.001531</td>\n",
       "      <td>-0.003333</td>\n",
       "      <td>0.006209</td>\n",
       "      <td>0.000729</td>\n",
       "      <td>0.000766</td>\n",
       "      <td>-0.000092</td>\n",
       "      <td>0.003248</td>\n",
       "    </tr>\n",
       "    <tr>\n",
       "      <th>loan_intent_PERSONAL</th>\n",
       "      <td>0.000344</td>\n",
       "      <td>0.000044</td>\n",
       "      <td>0.000079</td>\n",
       "      <td>-0.001090</td>\n",
       "      <td>-0.003220</td>\n",
       "      <td>-0.000508</td>\n",
       "      <td>0.001460</td>\n",
       "      <td>-0.001005</td>\n",
       "      <td>-0.000163</td>\n",
       "      <td>0.000831</td>\n",
       "      <td>...</td>\n",
       "      <td>0.137579</td>\n",
       "      <td>-0.025203</td>\n",
       "      <td>0.006059</td>\n",
       "      <td>0.000983</td>\n",
       "      <td>-0.000537</td>\n",
       "      <td>-0.003564</td>\n",
       "      <td>-0.001955</td>\n",
       "      <td>-0.000805</td>\n",
       "      <td>-0.000181</td>\n",
       "      <td>-0.001664</td>\n",
       "    </tr>\n",
       "    <tr>\n",
       "      <th>loan_intent_VENTURE</th>\n",
       "      <td>-0.000296</td>\n",
       "      <td>-0.000028</td>\n",
       "      <td>-0.000035</td>\n",
       "      <td>-0.000339</td>\n",
       "      <td>-0.001032</td>\n",
       "      <td>0.000656</td>\n",
       "      <td>-0.000527</td>\n",
       "      <td>-0.006437</td>\n",
       "      <td>-0.000006</td>\n",
       "      <td>0.006940</td>\n",
       "      <td>...</td>\n",
       "      <td>-0.025203</td>\n",
       "      <td>0.129618</td>\n",
       "      <td>0.003043</td>\n",
       "      <td>-0.000547</td>\n",
       "      <td>-0.000064</td>\n",
       "      <td>-0.003011</td>\n",
       "      <td>0.001027</td>\n",
       "      <td>-0.000765</td>\n",
       "      <td>0.000317</td>\n",
       "      <td>-0.000596</td>\n",
       "    </tr>\n",
       "    <tr>\n",
       "      <th>loan_grade_A</th>\n",
       "      <td>-0.000052</td>\n",
       "      <td>-0.000008</td>\n",
       "      <td>0.000851</td>\n",
       "      <td>-0.011537</td>\n",
       "      <td>-0.065375</td>\n",
       "      <td>-0.006151</td>\n",
       "      <td>-0.000507</td>\n",
       "      <td>0.023968</td>\n",
       "      <td>-0.000314</td>\n",
       "      <td>0.005433</td>\n",
       "      <td>...</td>\n",
       "      <td>0.006059</td>\n",
       "      <td>0.003043</td>\n",
       "      <td>0.195186</td>\n",
       "      <td>-0.076123</td>\n",
       "      <td>-0.052064</td>\n",
       "      <td>-0.048721</td>\n",
       "      <td>-0.013761</td>\n",
       "      <td>-0.003493</td>\n",
       "      <td>-0.001024</td>\n",
       "      <td>-0.060465</td>\n",
       "    </tr>\n",
       "    <tr>\n",
       "      <th>loan_grade_B</th>\n",
       "      <td>-0.000278</td>\n",
       "      <td>0.000020</td>\n",
       "      <td>0.000177</td>\n",
       "      <td>0.004300</td>\n",
       "      <td>-0.012195</td>\n",
       "      <td>0.002696</td>\n",
       "      <td>-0.000308</td>\n",
       "      <td>-0.003937</td>\n",
       "      <td>-0.000164</td>\n",
       "      <td>-0.000958</td>\n",
       "      <td>...</td>\n",
       "      <td>0.000983</td>\n",
       "      <td>-0.000547</td>\n",
       "      <td>-0.076123</td>\n",
       "      <td>0.204368</td>\n",
       "      <td>-0.056079</td>\n",
       "      <td>-0.052479</td>\n",
       "      <td>-0.014822</td>\n",
       "      <td>-0.003762</td>\n",
       "      <td>-0.001103</td>\n",
       "      <td>-0.065128</td>\n",
       "    </tr>\n",
       "    <tr>\n",
       "      <th>loan_grade_C</th>\n",
       "      <td>-0.000095</td>\n",
       "      <td>-0.000098</td>\n",
       "      <td>-0.000401</td>\n",
       "      <td>-0.003288</td>\n",
       "      <td>0.018420</td>\n",
       "      <td>0.000529</td>\n",
       "      <td>0.000121</td>\n",
       "      <td>-0.007490</td>\n",
       "      <td>0.000174</td>\n",
       "      <td>-0.000394</td>\n",
       "      <td>...</td>\n",
       "      <td>-0.000537</td>\n",
       "      <td>-0.000064</td>\n",
       "      <td>-0.052064</td>\n",
       "      <td>-0.056079</td>\n",
       "      <td>0.157500</td>\n",
       "      <td>-0.035892</td>\n",
       "      <td>-0.010138</td>\n",
       "      <td>-0.002573</td>\n",
       "      <td>-0.000754</td>\n",
       "      <td>0.052194</td>\n",
       "    </tr>\n",
       "    <tr>\n",
       "      <th>loan_grade_D</th>\n",
       "      <td>0.000356</td>\n",
       "      <td>-0.000012</td>\n",
       "      <td>-0.000345</td>\n",
       "      <td>0.003474</td>\n",
       "      <td>0.036841</td>\n",
       "      <td>0.000694</td>\n",
       "      <td>0.000543</td>\n",
       "      <td>-0.010339</td>\n",
       "      <td>-0.000119</td>\n",
       "      <td>-0.004202</td>\n",
       "      <td>...</td>\n",
       "      <td>-0.003564</td>\n",
       "      <td>-0.003011</td>\n",
       "      <td>-0.048721</td>\n",
       "      <td>-0.052479</td>\n",
       "      <td>-0.035892</td>\n",
       "      <td>0.149693</td>\n",
       "      <td>-0.009487</td>\n",
       "      <td>-0.002408</td>\n",
       "      <td>-0.000706</td>\n",
       "      <td>0.056526</td>\n",
       "    </tr>\n",
       "    <tr>\n",
       "      <th>loan_grade_E</th>\n",
       "      <td>-0.000031</td>\n",
       "      <td>0.000045</td>\n",
       "      <td>-0.000300</td>\n",
       "      <td>0.003914</td>\n",
       "      <td>0.015481</td>\n",
       "      <td>0.001305</td>\n",
       "      <td>-0.000110</td>\n",
       "      <td>-0.003505</td>\n",
       "      <td>0.000260</td>\n",
       "      <td>0.000193</td>\n",
       "      <td>...</td>\n",
       "      <td>-0.001955</td>\n",
       "      <td>0.001027</td>\n",
       "      <td>-0.013761</td>\n",
       "      <td>-0.014822</td>\n",
       "      <td>-0.010138</td>\n",
       "      <td>-0.009487</td>\n",
       "      <td>0.049088</td>\n",
       "      <td>-0.000680</td>\n",
       "      <td>-0.000199</td>\n",
       "      <td>0.013034</td>\n",
       "    </tr>\n",
       "    <tr>\n",
       "      <th>loan_grade_F</th>\n",
       "      <td>0.000048</td>\n",
       "      <td>0.000040</td>\n",
       "      <td>-0.000040</td>\n",
       "      <td>0.002209</td>\n",
       "      <td>0.005002</td>\n",
       "      <td>0.000604</td>\n",
       "      <td>0.000125</td>\n",
       "      <td>0.000838</td>\n",
       "      <td>0.000177</td>\n",
       "      <td>-0.000190</td>\n",
       "      <td>...</td>\n",
       "      <td>-0.000805</td>\n",
       "      <td>-0.000765</td>\n",
       "      <td>-0.003493</td>\n",
       "      <td>-0.003762</td>\n",
       "      <td>-0.002573</td>\n",
       "      <td>-0.002408</td>\n",
       "      <td>-0.000680</td>\n",
       "      <td>0.012967</td>\n",
       "      <td>-0.000051</td>\n",
       "      <td>0.002789</td>\n",
       "    </tr>\n",
       "    <tr>\n",
       "      <th>loan_grade_G</th>\n",
       "      <td>0.000052</td>\n",
       "      <td>0.000013</td>\n",
       "      <td>0.000057</td>\n",
       "      <td>0.000928</td>\n",
       "      <td>0.001827</td>\n",
       "      <td>0.000323</td>\n",
       "      <td>0.000136</td>\n",
       "      <td>0.000464</td>\n",
       "      <td>-0.000014</td>\n",
       "      <td>0.000118</td>\n",
       "      <td>...</td>\n",
       "      <td>-0.000181</td>\n",
       "      <td>0.000317</td>\n",
       "      <td>-0.001024</td>\n",
       "      <td>-0.001103</td>\n",
       "      <td>-0.000754</td>\n",
       "      <td>-0.000706</td>\n",
       "      <td>-0.000199</td>\n",
       "      <td>-0.000051</td>\n",
       "      <td>0.003837</td>\n",
       "      <td>0.001050</td>\n",
       "    </tr>\n",
       "    <tr>\n",
       "      <th>cb_person_default_on_file_Y</th>\n",
       "      <td>0.000296</td>\n",
       "      <td>-0.000019</td>\n",
       "      <td>-0.000273</td>\n",
       "      <td>0.002458</td>\n",
       "      <td>0.039376</td>\n",
       "      <td>0.001320</td>\n",
       "      <td>0.000725</td>\n",
       "      <td>-0.012547</td>\n",
       "      <td>0.000396</td>\n",
       "      <td>-0.002100</td>\n",
       "      <td>...</td>\n",
       "      <td>-0.001664</td>\n",
       "      <td>-0.000596</td>\n",
       "      <td>-0.060465</td>\n",
       "      <td>-0.065128</td>\n",
       "      <td>0.052194</td>\n",
       "      <td>0.056526</td>\n",
       "      <td>0.013034</td>\n",
       "      <td>0.002789</td>\n",
       "      <td>0.001050</td>\n",
       "      <td>0.175727</td>\n",
       "    </tr>\n",
       "  </tbody>\n",
       "</table>\n",
       "<p>25 rows × 25 columns</p>\n",
       "</div>"
      ],
      "text/plain": [
       "                                person_age  person_income  person_emp_length  \\\n",
       "person_age                        0.002518       0.000051           0.000297   \n",
       "person_income                     0.000051       0.000059           0.000048   \n",
       "person_emp_length                 0.000297       0.000048           0.001173   \n",
       "loan_amnt                         0.000657       0.000527           0.000808   \n",
       "loan_int_rate                     0.000134       0.000022          -0.000396   \n",
       "loan_percent_income              -0.000263      -0.000371          -0.000312   \n",
       "cb_person_cred_hist_length        0.006452       0.000111           0.000707   \n",
       "person_home_ownership_MORTGAGE    0.000974       0.001050           0.003813   \n",
       "person_home_ownership_OTHER      -0.000002       0.000012          -0.000036   \n",
       "person_home_ownership_OWN        -0.000067      -0.000046           0.000203   \n",
       "person_home_ownership_RENT       -0.000905      -0.001017          -0.003980   \n",
       "loan_intent_DEBTCONSOLIDATION    -0.000053       0.000041           0.000239   \n",
       "loan_intent_EDUCATION            -0.001173      -0.000027          -0.000432   \n",
       "loan_intent_HOMEIMPROVEMENT       0.000752       0.000082          -0.000141   \n",
       "loan_intent_MEDICAL               0.000425      -0.000113           0.000289   \n",
       "loan_intent_PERSONAL              0.000344       0.000044           0.000079   \n",
       "loan_intent_VENTURE              -0.000296      -0.000028          -0.000035   \n",
       "loan_grade_A                     -0.000052      -0.000008           0.000851   \n",
       "loan_grade_B                     -0.000278       0.000020           0.000177   \n",
       "loan_grade_C                     -0.000095      -0.000098          -0.000401   \n",
       "loan_grade_D                      0.000356      -0.000012          -0.000345   \n",
       "loan_grade_E                     -0.000031       0.000045          -0.000300   \n",
       "loan_grade_F                      0.000048       0.000040          -0.000040   \n",
       "loan_grade_G                      0.000052       0.000013           0.000057   \n",
       "cb_person_default_on_file_Y       0.000296      -0.000019          -0.000273   \n",
       "\n",
       "                                loan_amnt  loan_int_rate  loan_percent_income  \\\n",
       "person_age                       0.000657       0.000134            -0.000263   \n",
       "person_income                    0.000527       0.000022            -0.000371   \n",
       "person_emp_length                0.000808      -0.000396            -0.000312   \n",
       "loan_amnt                        0.037878       0.005861             0.015882   \n",
       "loan_int_rate                    0.005861       0.036592             0.002498   \n",
       "loan_percent_income              0.015882       0.002498             0.021331   \n",
       "cb_person_cred_hist_length       0.001217       0.000467            -0.000584   \n",
       "person_home_ownership_MORTGAGE   0.007873      -0.009969            -0.015797   \n",
       "person_home_ownership_OTHER      0.000333       0.000193             0.000209   \n",
       "person_home_ownership_OWN       -0.001911      -0.001962             0.000350   \n",
       "person_home_ownership_RENT      -0.006295       0.011737             0.015238   \n",
       "loan_intent_DEBTCONSOLIDATION    0.002094       0.004595             0.000818   \n",
       "loan_intent_EDUCATION           -0.001646      -0.003528            -0.000657   \n",
       "loan_intent_HOMEIMPROVEMENT      0.000542       0.000914            -0.001581   \n",
       "loan_intent_MEDICAL              0.000441       0.002271             0.001271   \n",
       "loan_intent_PERSONAL            -0.001090      -0.003220            -0.000508   \n",
       "loan_intent_VENTURE             -0.000339      -0.001032             0.000656   \n",
       "loan_grade_A                    -0.011537      -0.065375            -0.006151   \n",
       "loan_grade_B                     0.004300      -0.012195             0.002696   \n",
       "loan_grade_C                    -0.003288       0.018420             0.000529   \n",
       "loan_grade_D                     0.003474       0.036841             0.000694   \n",
       "loan_grade_E                     0.003914       0.015481             0.001305   \n",
       "loan_grade_F                     0.002209       0.005002             0.000604   \n",
       "loan_grade_G                     0.000928       0.001827             0.000323   \n",
       "cb_person_default_on_file_Y      0.002458       0.039376             0.001320   \n",
       "\n",
       "                                cb_person_cred_hist_length  \\\n",
       "person_age                                        0.006452   \n",
       "person_income                                     0.000111   \n",
       "person_emp_length                                 0.000707   \n",
       "loan_amnt                                         0.001217   \n",
       "loan_int_rate                                     0.000467   \n",
       "loan_percent_income                              -0.000584   \n",
       "cb_person_cred_hist_length                        0.021382   \n",
       "person_home_ownership_MORTGAGE                    0.001538   \n",
       "person_home_ownership_OTHER                      -0.000015   \n",
       "person_home_ownership_OWN                         0.000025   \n",
       "person_home_ownership_RENT                       -0.001548   \n",
       "loan_intent_DEBTCONSOLIDATION                    -0.000388   \n",
       "loan_intent_EDUCATION                            -0.002509   \n",
       "loan_intent_HOMEIMPROVEMENT                       0.001163   \n",
       "loan_intent_MEDICAL                               0.000801   \n",
       "loan_intent_PERSONAL                              0.001460   \n",
       "loan_intent_VENTURE                              -0.000527   \n",
       "loan_grade_A                                     -0.000507   \n",
       "loan_grade_B                                     -0.000308   \n",
       "loan_grade_C                                      0.000121   \n",
       "loan_grade_D                                      0.000543   \n",
       "loan_grade_E                                     -0.000110   \n",
       "loan_grade_F                                      0.000125   \n",
       "loan_grade_G                                      0.000136   \n",
       "cb_person_default_on_file_Y                       0.000725   \n",
       "\n",
       "                                person_home_ownership_MORTGAGE  \\\n",
       "person_age                                            0.000974   \n",
       "person_income                                         0.001050   \n",
       "person_emp_length                                     0.003813   \n",
       "loan_amnt                                             0.007873   \n",
       "loan_int_rate                                        -0.009969   \n",
       "loan_percent_income                                  -0.015797   \n",
       "cb_person_cred_hist_length                            0.001538   \n",
       "person_home_ownership_MORTGAGE                        0.227521   \n",
       "person_home_ownership_OTHER                          -0.001308   \n",
       "person_home_ownership_OWN                            -0.020139   \n",
       "person_home_ownership_RENT                           -0.206073   \n",
       "loan_intent_DEBTCONSOLIDATION                         0.005350   \n",
       "loan_intent_EDUCATION                                -0.002330   \n",
       "loan_intent_HOMEIMPROVEMENT                           0.006702   \n",
       "loan_intent_MEDICAL                                  -0.002279   \n",
       "loan_intent_PERSONAL                                 -0.001005   \n",
       "loan_intent_VENTURE                                  -0.006437   \n",
       "loan_grade_A                                          0.023968   \n",
       "loan_grade_B                                         -0.003937   \n",
       "loan_grade_C                                         -0.007490   \n",
       "loan_grade_D                                         -0.010339   \n",
       "loan_grade_E                                         -0.003505   \n",
       "loan_grade_F                                          0.000838   \n",
       "loan_grade_G                                          0.000464   \n",
       "cb_person_default_on_file_Y                          -0.012547   \n",
       "\n",
       "                                person_home_ownership_OTHER  \\\n",
       "person_age                                        -0.000002   \n",
       "person_income                                      0.000012   \n",
       "person_emp_length                                 -0.000036   \n",
       "loan_amnt                                          0.000333   \n",
       "loan_int_rate                                      0.000193   \n",
       "loan_percent_income                                0.000209   \n",
       "cb_person_cred_hist_length                        -0.000015   \n",
       "person_home_ownership_MORTGAGE                    -0.001308   \n",
       "person_home_ownership_OTHER                        0.003724   \n",
       "person_home_ownership_OWN                         -0.000215   \n",
       "person_home_ownership_RENT                        -0.002201   \n",
       "loan_intent_DEBTCONSOLIDATION                      0.000016   \n",
       "loan_intent_EDUCATION                              0.000222   \n",
       "loan_intent_HOMEIMPROVEMENT                       -0.000114   \n",
       "loan_intent_MEDICAL                                0.000044   \n",
       "loan_intent_PERSONAL                              -0.000163   \n",
       "loan_intent_VENTURE                               -0.000006   \n",
       "loan_grade_A                                      -0.000314   \n",
       "loan_grade_B                                      -0.000164   \n",
       "loan_grade_C                                       0.000174   \n",
       "loan_grade_D                                      -0.000119   \n",
       "loan_grade_E                                       0.000260   \n",
       "loan_grade_F                                       0.000177   \n",
       "loan_grade_G                                      -0.000014   \n",
       "cb_person_default_on_file_Y                        0.000396   \n",
       "\n",
       "                                person_home_ownership_OWN  ...  \\\n",
       "person_age                                      -0.000067  ...   \n",
       "person_income                                   -0.000046  ...   \n",
       "person_emp_length                                0.000203  ...   \n",
       "loan_amnt                                       -0.001911  ...   \n",
       "loan_int_rate                                   -0.001962  ...   \n",
       "loan_percent_income                              0.000350  ...   \n",
       "cb_person_cred_hist_length                       0.000025  ...   \n",
       "person_home_ownership_MORTGAGE                  -0.020139  ...   \n",
       "person_home_ownership_OTHER                     -0.000215  ...   \n",
       "person_home_ownership_OWN                        0.054233  ...   \n",
       "person_home_ownership_RENT                      -0.033879  ...   \n",
       "loan_intent_DEBTCONSOLIDATION                   -0.007614  ...   \n",
       "loan_intent_EDUCATION                            0.000682  ...   \n",
       "loan_intent_HOMEIMPROVEMENT                      0.001062  ...   \n",
       "loan_intent_MEDICAL                             -0.001901  ...   \n",
       "loan_intent_PERSONAL                             0.000831  ...   \n",
       "loan_intent_VENTURE                              0.006940  ...   \n",
       "loan_grade_A                                     0.005433  ...   \n",
       "loan_grade_B                                    -0.000958  ...   \n",
       "loan_grade_C                                    -0.000394  ...   \n",
       "loan_grade_D                                    -0.004202  ...   \n",
       "loan_grade_E                                     0.000193  ...   \n",
       "loan_grade_F                                    -0.000190  ...   \n",
       "loan_grade_G                                     0.000118  ...   \n",
       "cb_person_default_on_file_Y                     -0.002100  ...   \n",
       "\n",
       "                                loan_intent_PERSONAL  loan_intent_VENTURE  \\\n",
       "person_age                                  0.000344            -0.000296   \n",
       "person_income                               0.000044            -0.000028   \n",
       "person_emp_length                           0.000079            -0.000035   \n",
       "loan_amnt                                  -0.001090            -0.000339   \n",
       "loan_int_rate                              -0.003220            -0.001032   \n",
       "loan_percent_income                        -0.000508             0.000656   \n",
       "cb_person_cred_hist_length                  0.001460            -0.000527   \n",
       "person_home_ownership_MORTGAGE             -0.001005            -0.006437   \n",
       "person_home_ownership_OTHER                -0.000163            -0.000006   \n",
       "person_home_ownership_OWN                   0.000831             0.006940   \n",
       "person_home_ownership_RENT                  0.000336            -0.000497   \n",
       "loan_intent_DEBTCONSOLIDATION              -0.029251            -0.027179   \n",
       "loan_intent_EDUCATION                      -0.030146            -0.028011   \n",
       "loan_intent_HOMEIMPROVEMENT                -0.019979            -0.018564   \n",
       "loan_intent_MEDICAL                        -0.033000            -0.030663   \n",
       "loan_intent_PERSONAL                        0.137579            -0.025203   \n",
       "loan_intent_VENTURE                        -0.025203             0.129618   \n",
       "loan_grade_A                                0.006059             0.003043   \n",
       "loan_grade_B                                0.000983            -0.000547   \n",
       "loan_grade_C                               -0.000537            -0.000064   \n",
       "loan_grade_D                               -0.003564            -0.003011   \n",
       "loan_grade_E                               -0.001955             0.001027   \n",
       "loan_grade_F                               -0.000805            -0.000765   \n",
       "loan_grade_G                               -0.000181             0.000317   \n",
       "cb_person_default_on_file_Y                -0.001664            -0.000596   \n",
       "\n",
       "                                loan_grade_A  loan_grade_B  loan_grade_C  \\\n",
       "person_age                         -0.000052     -0.000278     -0.000095   \n",
       "person_income                      -0.000008      0.000020     -0.000098   \n",
       "person_emp_length                   0.000851      0.000177     -0.000401   \n",
       "loan_amnt                          -0.011537      0.004300     -0.003288   \n",
       "loan_int_rate                      -0.065375     -0.012195      0.018420   \n",
       "loan_percent_income                -0.006151      0.002696      0.000529   \n",
       "cb_person_cred_hist_length         -0.000507     -0.000308      0.000121   \n",
       "person_home_ownership_MORTGAGE      0.023968     -0.003937     -0.007490   \n",
       "person_home_ownership_OTHER        -0.000314     -0.000164      0.000174   \n",
       "person_home_ownership_OWN           0.005433     -0.000958     -0.000394   \n",
       "person_home_ownership_RENT         -0.029087      0.005059      0.007710   \n",
       "loan_intent_DEBTCONSOLIDATION      -0.008022     -0.002261     -0.000347   \n",
       "loan_intent_EDUCATION               0.004692      0.003092      0.002779   \n",
       "loan_intent_HOMEIMPROVEMENT        -0.003025      0.000265      0.001502   \n",
       "loan_intent_MEDICAL                -0.002747     -0.001531     -0.003333   \n",
       "loan_intent_PERSONAL                0.006059      0.000983     -0.000537   \n",
       "loan_intent_VENTURE                 0.003043     -0.000547     -0.000064   \n",
       "loan_grade_A                        0.195186     -0.076123     -0.052064   \n",
       "loan_grade_B                       -0.076123      0.204368     -0.056079   \n",
       "loan_grade_C                       -0.052064     -0.056079      0.157500   \n",
       "loan_grade_D                       -0.048721     -0.052479     -0.035892   \n",
       "loan_grade_E                       -0.013761     -0.014822     -0.010138   \n",
       "loan_grade_F                       -0.003493     -0.003762     -0.002573   \n",
       "loan_grade_G                       -0.001024     -0.001103     -0.000754   \n",
       "cb_person_default_on_file_Y        -0.060465     -0.065128      0.052194   \n",
       "\n",
       "                                loan_grade_D  loan_grade_E  loan_grade_F  \\\n",
       "person_age                          0.000356     -0.000031      0.000048   \n",
       "person_income                      -0.000012      0.000045      0.000040   \n",
       "person_emp_length                  -0.000345     -0.000300     -0.000040   \n",
       "loan_amnt                           0.003474      0.003914      0.002209   \n",
       "loan_int_rate                       0.036841      0.015481      0.005002   \n",
       "loan_percent_income                 0.000694      0.001305      0.000604   \n",
       "cb_person_cred_hist_length          0.000543     -0.000110      0.000125   \n",
       "person_home_ownership_MORTGAGE     -0.010339     -0.003505      0.000838   \n",
       "person_home_ownership_OTHER        -0.000119      0.000260      0.000177   \n",
       "person_home_ownership_OWN          -0.004202      0.000193     -0.000190   \n",
       "person_home_ownership_RENT          0.014660      0.003052     -0.000826   \n",
       "loan_intent_DEBTCONSOLIDATION       0.008229      0.001454      0.000838   \n",
       "loan_intent_EDUCATION              -0.008173     -0.001546     -0.000593   \n",
       "loan_intent_HOMEIMPROVEMENT         0.000309      0.000290      0.000558   \n",
       "loan_intent_MEDICAL                 0.006209      0.000729      0.000766   \n",
       "loan_intent_PERSONAL               -0.003564     -0.001955     -0.000805   \n",
       "loan_intent_VENTURE                -0.003011      0.001027     -0.000765   \n",
       "loan_grade_A                       -0.048721     -0.013761     -0.003493   \n",
       "loan_grade_B                       -0.052479     -0.014822     -0.003762   \n",
       "loan_grade_C                       -0.035892     -0.010138     -0.002573   \n",
       "loan_grade_D                        0.149693     -0.009487     -0.002408   \n",
       "loan_grade_E                       -0.009487      0.049088     -0.000680   \n",
       "loan_grade_F                       -0.002408     -0.000680      0.012967   \n",
       "loan_grade_G                       -0.000706     -0.000199     -0.000051   \n",
       "cb_person_default_on_file_Y         0.056526      0.013034      0.002789   \n",
       "\n",
       "                                loan_grade_G  cb_person_default_on_file_Y  \n",
       "person_age                          0.000052                     0.000296  \n",
       "person_income                       0.000013                    -0.000019  \n",
       "person_emp_length                   0.000057                    -0.000273  \n",
       "loan_amnt                           0.000928                     0.002458  \n",
       "loan_int_rate                       0.001827                     0.039376  \n",
       "loan_percent_income                 0.000323                     0.001320  \n",
       "cb_person_cred_hist_length          0.000136                     0.000725  \n",
       "person_home_ownership_MORTGAGE      0.000464                    -0.012547  \n",
       "person_home_ownership_OTHER        -0.000014                     0.000396  \n",
       "person_home_ownership_OWN           0.000118                    -0.002100  \n",
       "person_home_ownership_RENT         -0.000568                     0.014251  \n",
       "loan_intent_DEBTCONSOLIDATION       0.000109                     0.004235  \n",
       "loan_intent_EDUCATION              -0.000252                    -0.006404  \n",
       "loan_intent_HOMEIMPROVEMENT         0.000099                     0.001180  \n",
       "loan_intent_MEDICAL                -0.000092                     0.003248  \n",
       "loan_intent_PERSONAL               -0.000181                    -0.001664  \n",
       "loan_intent_VENTURE                 0.000317                    -0.000596  \n",
       "loan_grade_A                       -0.001024                    -0.060465  \n",
       "loan_grade_B                       -0.001103                    -0.065128  \n",
       "loan_grade_C                       -0.000754                     0.052194  \n",
       "loan_grade_D                       -0.000706                     0.056526  \n",
       "loan_grade_E                       -0.000199                     0.013034  \n",
       "loan_grade_F                       -0.000051                     0.002789  \n",
       "loan_grade_G                        0.003837                     0.001050  \n",
       "cb_person_default_on_file_Y         0.001050                     0.175727  \n",
       "\n",
       "[25 rows x 25 columns]"
      ]
     },
     "execution_count": 413,
     "metadata": {},
     "output_type": "execute_result"
    }
   ],
   "source": [
    "cols = [x for x in data.columns if x != 'loan_status']\n",
    "train_data[cols].cov()"
   ]
  },
  {
   "cell_type": "code",
   "execution_count": 414,
   "metadata": {},
   "outputs": [],
   "source": [
    "covm = train_data[cols].cov().values"
   ]
  },
  {
   "cell_type": "markdown",
   "metadata": {},
   "source": [
    "### Calculate Group Means"
   ]
  },
  {
   "cell_type": "code",
   "execution_count": 415,
   "metadata": {},
   "outputs": [
    {
     "data": {
      "text/html": [
       "<div>\n",
       "<style scoped>\n",
       "    .dataframe tbody tr th:only-of-type {\n",
       "        vertical-align: middle;\n",
       "    }\n",
       "\n",
       "    .dataframe tbody tr th {\n",
       "        vertical-align: top;\n",
       "    }\n",
       "\n",
       "    .dataframe thead th {\n",
       "        text-align: right;\n",
       "    }\n",
       "</style>\n",
       "<table border=\"1\" class=\"dataframe\">\n",
       "  <thead>\n",
       "    <tr style=\"text-align: right;\">\n",
       "      <th></th>\n",
       "      <th>person_age</th>\n",
       "      <th>person_income</th>\n",
       "      <th>person_emp_length</th>\n",
       "      <th>loan_amnt</th>\n",
       "      <th>loan_int_rate</th>\n",
       "      <th>loan_percent_income</th>\n",
       "      <th>cb_person_cred_hist_length</th>\n",
       "      <th>person_home_ownership_MORTGAGE</th>\n",
       "      <th>person_home_ownership_OTHER</th>\n",
       "      <th>person_home_ownership_OWN</th>\n",
       "      <th>...</th>\n",
       "      <th>loan_intent_PERSONAL</th>\n",
       "      <th>loan_intent_VENTURE</th>\n",
       "      <th>loan_grade_A</th>\n",
       "      <th>loan_grade_B</th>\n",
       "      <th>loan_grade_C</th>\n",
       "      <th>loan_grade_D</th>\n",
       "      <th>loan_grade_E</th>\n",
       "      <th>loan_grade_F</th>\n",
       "      <th>loan_grade_G</th>\n",
       "      <th>cb_person_default_on_file_Y</th>\n",
       "    </tr>\n",
       "    <tr>\n",
       "      <th>loan_status</th>\n",
       "      <th></th>\n",
       "      <th></th>\n",
       "      <th></th>\n",
       "      <th></th>\n",
       "      <th></th>\n",
       "      <th></th>\n",
       "      <th></th>\n",
       "      <th></th>\n",
       "      <th></th>\n",
       "      <th></th>\n",
       "      <th></th>\n",
       "      <th></th>\n",
       "      <th></th>\n",
       "      <th></th>\n",
       "      <th></th>\n",
       "      <th></th>\n",
       "      <th></th>\n",
       "      <th></th>\n",
       "      <th></th>\n",
       "      <th></th>\n",
       "      <th></th>\n",
       "    </tr>\n",
       "  </thead>\n",
       "  <tbody>\n",
       "    <tr>\n",
       "      <th>0</th>\n",
       "      <td>0.062891</td>\n",
       "      <td>0.011205</td>\n",
       "      <td>0.040554</td>\n",
       "      <td>0.252781</td>\n",
       "      <td>0.283560</td>\n",
       "      <td>0.176131</td>\n",
       "      <td>0.138058</td>\n",
       "      <td>0.452418</td>\n",
       "      <td>0.003120</td>\n",
       "      <td>0.090261</td>\n",
       "      <td>...</td>\n",
       "      <td>0.179853</td>\n",
       "      <td>0.188322</td>\n",
       "      <td>0.380209</td>\n",
       "      <td>0.337419</td>\n",
       "      <td>0.207043</td>\n",
       "      <td>0.059060</td>\n",
       "      <td>0.013595</td>\n",
       "      <td>0.002452</td>\n",
       "      <td>0.000223</td>\n",
       "      <td>0.141297</td>\n",
       "    </tr>\n",
       "    <tr>\n",
       "      <th>1</th>\n",
       "      <td>0.060352</td>\n",
       "      <td>0.007791</td>\n",
       "      <td>0.034039</td>\n",
       "      <td>0.303617</td>\n",
       "      <td>0.432190</td>\n",
       "      <td>0.293219</td>\n",
       "      <td>0.131646</td>\n",
       "      <td>0.244127</td>\n",
       "      <td>0.004376</td>\n",
       "      <td>0.023722</td>\n",
       "      <td>...</td>\n",
       "      <td>0.149010</td>\n",
       "      <td>0.116536</td>\n",
       "      <td>0.147628</td>\n",
       "      <td>0.233533</td>\n",
       "      <td>0.184247</td>\n",
       "      <td>0.311608</td>\n",
       "      <td>0.091202</td>\n",
       "      <td>0.024182</td>\n",
       "      <td>0.007600</td>\n",
       "      <td>0.316444</td>\n",
       "    </tr>\n",
       "  </tbody>\n",
       "</table>\n",
       "<p>2 rows × 25 columns</p>\n",
       "</div>"
      ],
      "text/plain": [
       "             person_age  person_income  person_emp_length  loan_amnt  \\\n",
       "loan_status                                                            \n",
       "0              0.062891       0.011205           0.040554   0.252781   \n",
       "1              0.060352       0.007791           0.034039   0.303617   \n",
       "\n",
       "             loan_int_rate  loan_percent_income  cb_person_cred_hist_length  \\\n",
       "loan_status                                                                   \n",
       "0                 0.283560             0.176131                    0.138058   \n",
       "1                 0.432190             0.293219                    0.131646   \n",
       "\n",
       "             person_home_ownership_MORTGAGE  person_home_ownership_OTHER  \\\n",
       "loan_status                                                                \n",
       "0                                  0.452418                     0.003120   \n",
       "1                                  0.244127                     0.004376   \n",
       "\n",
       "             person_home_ownership_OWN  ...  loan_intent_PERSONAL  \\\n",
       "loan_status                             ...                         \n",
       "0                             0.090261  ...              0.179853   \n",
       "1                             0.023722  ...              0.149010   \n",
       "\n",
       "             loan_intent_VENTURE  loan_grade_A  loan_grade_B  loan_grade_C  \\\n",
       "loan_status                                                                  \n",
       "0                       0.188322      0.380209      0.337419      0.207043   \n",
       "1                       0.116536      0.147628      0.233533      0.184247   \n",
       "\n",
       "             loan_grade_D  loan_grade_E  loan_grade_F  loan_grade_G  \\\n",
       "loan_status                                                           \n",
       "0                0.059060      0.013595      0.002452      0.000223   \n",
       "1                0.311608      0.091202      0.024182      0.007600   \n",
       "\n",
       "             cb_person_default_on_file_Y  \n",
       "loan_status                               \n",
       "0                               0.141297  \n",
       "1                               0.316444  \n",
       "\n",
       "[2 rows x 25 columns]"
      ]
     },
     "execution_count": 415,
     "metadata": {},
     "output_type": "execute_result"
    }
   ],
   "source": [
    "train_data.groupby('loan_status').mean()"
   ]
  },
  {
   "cell_type": "code",
   "execution_count": 416,
   "metadata": {},
   "outputs": [],
   "source": [
    "XG = train_data.groupby('loan_status').mean().loc[0].values\n",
    "XB = train_data.groupby('loan_status').mean().loc[1].values"
   ]
  },
  {
   "cell_type": "markdown",
   "metadata": {},
   "source": [
    "### Calculate scoring function weights"
   ]
  },
  {
   "cell_type": "code",
   "execution_count": 417,
   "metadata": {},
   "outputs": [
    {
     "data": {
      "text/plain": [
       "array([-9.03200e-03,  7.76160e-02,  1.67600e-02, -6.82210e-02,\n",
       "        3.27100e-02,  2.27702e-01, -1.79600e-03, -8.98100e-03,\n",
       "       -3.36790e-02, -4.15370e-02,  4.49000e-03,  1.05527e-01,\n",
       "        8.75650e-02,  1.03281e-01,  1.01036e-01,  8.98100e-02,\n",
       "        7.63380e-02, -0.00000e+00,  3.36800e-03,  3.36800e-03,\n",
       "        5.50090e-02,  5.72540e-02,  5.61310e-02,  6.51120e-02,\n",
       "        1.69000e-04])"
      ]
     },
     "execution_count": 417,
     "metadata": {},
     "output_type": "execute_result"
    }
   ],
   "source": [
    "ell = np.linalg.inv(covm).dot(XG-XB)\n",
    "#normalize the weights\n",
    "ell = ell/sum(ell)\n",
    "np.round(ell,6)"
   ]
  },
  {
   "cell_type": "markdown",
   "metadata": {},
   "source": [
    "### Calculate scores"
   ]
  },
  {
   "cell_type": "code",
   "execution_count": 376,
   "metadata": {},
   "outputs": [],
   "source": [
    "def cal_score(x,w):\n",
    "    return w.dot(x.values)"
   ]
  },
  {
   "cell_type": "code",
   "execution_count": 418,
   "metadata": {},
   "outputs": [
    {
     "data": {
      "text/plain": [
       "person_age                       0.032258\n",
       "person_income                    0.003836\n",
       "person_emp_length                0.024390\n",
       "loan_amnt                        0.217391\n",
       "loan_int_rate                    0.195506\n",
       "loan_percent_income              0.361446\n",
       "cb_person_cred_hist_length       0.071429\n",
       "person_home_ownership_MORTGAGE   0.000000\n",
       "person_home_ownership_OTHER      0.000000\n",
       "person_home_ownership_OWN        0.000000\n",
       "person_home_ownership_RENT       1.000000\n",
       "loan_intent_DEBTCONSOLIDATION    0.000000\n",
       "loan_intent_EDUCATION            0.000000\n",
       "loan_intent_HOMEIMPROVEMENT      0.000000\n",
       "loan_intent_MEDICAL              0.000000\n",
       "loan_intent_PERSONAL             0.000000\n",
       "loan_intent_VENTURE              1.000000\n",
       "loan_grade_A                     1.000000\n",
       "loan_grade_B                     0.000000\n",
       "loan_grade_C                     0.000000\n",
       "loan_grade_D                     0.000000\n",
       "loan_grade_E                     0.000000\n",
       "loan_grade_F                     0.000000\n",
       "loan_grade_G                     0.000000\n",
       "cb_person_default_on_file_Y      0.000000\n",
       "Name: 7559, dtype: float64"
      ]
     },
     "execution_count": 418,
     "metadata": {},
     "output_type": "execute_result"
    }
   ],
   "source": [
    "train_data[cols].iloc[0]"
   ]
  },
  {
   "cell_type": "code",
   "execution_count": 419,
   "metadata": {},
   "outputs": [],
   "source": [
    "train_data['score'] = train_data[cols].apply(lambda x: cal_score(x,ell),axis=1)"
   ]
  },
  {
   "cell_type": "markdown",
   "metadata": {},
   "source": [
    "### Rank Scores"
   ]
  },
  {
   "cell_type": "code",
   "execution_count": 420,
   "metadata": {},
   "outputs": [
    {
     "data": {
      "text/html": [
       "<div>\n",
       "<style scoped>\n",
       "    .dataframe tbody tr th:only-of-type {\n",
       "        vertical-align: middle;\n",
       "    }\n",
       "\n",
       "    .dataframe tbody tr th {\n",
       "        vertical-align: top;\n",
       "    }\n",
       "\n",
       "    .dataframe thead th {\n",
       "        text-align: right;\n",
       "    }\n",
       "</style>\n",
       "<table border=\"1\" class=\"dataframe\">\n",
       "  <thead>\n",
       "    <tr style=\"text-align: right;\">\n",
       "      <th></th>\n",
       "      <th>loan_status</th>\n",
       "      <th>score</th>\n",
       "    </tr>\n",
       "  </thead>\n",
       "  <tbody>\n",
       "    <tr>\n",
       "      <th>0</th>\n",
       "      <td>0</td>\n",
       "      <td>0.038493</td>\n",
       "    </tr>\n",
       "    <tr>\n",
       "      <th>1</th>\n",
       "      <td>0</td>\n",
       "      <td>0.039087</td>\n",
       "    </tr>\n",
       "    <tr>\n",
       "      <th>2</th>\n",
       "      <td>0</td>\n",
       "      <td>0.039419</td>\n",
       "    </tr>\n",
       "    <tr>\n",
       "      <th>3</th>\n",
       "      <td>0</td>\n",
       "      <td>0.044622</td>\n",
       "    </tr>\n",
       "    <tr>\n",
       "      <th>4</th>\n",
       "      <td>0</td>\n",
       "      <td>0.044642</td>\n",
       "    </tr>\n",
       "    <tr>\n",
       "      <th>...</th>\n",
       "      <td>...</td>\n",
       "      <td>...</td>\n",
       "    </tr>\n",
       "    <tr>\n",
       "      <th>8824</th>\n",
       "      <td>1</td>\n",
       "      <td>0.298602</td>\n",
       "    </tr>\n",
       "    <tr>\n",
       "      <th>8825</th>\n",
       "      <td>1</td>\n",
       "      <td>0.303909</td>\n",
       "    </tr>\n",
       "    <tr>\n",
       "      <th>8826</th>\n",
       "      <td>1</td>\n",
       "      <td>0.306609</td>\n",
       "    </tr>\n",
       "    <tr>\n",
       "      <th>8827</th>\n",
       "      <td>1</td>\n",
       "      <td>0.310716</td>\n",
       "    </tr>\n",
       "    <tr>\n",
       "      <th>8828</th>\n",
       "      <td>1</td>\n",
       "      <td>0.337984</td>\n",
       "    </tr>\n",
       "  </tbody>\n",
       "</table>\n",
       "<p>8829 rows × 2 columns</p>\n",
       "</div>"
      ],
      "text/plain": [
       "      loan_status    score\n",
       "0               0 0.038493\n",
       "1               0 0.039087\n",
       "2               0 0.039419\n",
       "3               0 0.044622\n",
       "4               0 0.044642\n",
       "...           ...      ...\n",
       "8824            1 0.298602\n",
       "8825            1 0.303909\n",
       "8826            1 0.306609\n",
       "8827            1 0.310716\n",
       "8828            1 0.337984\n",
       "\n",
       "[8829 rows x 2 columns]"
      ]
     },
     "execution_count": 420,
     "metadata": {},
     "output_type": "execute_result"
    }
   ],
   "source": [
    "td = train_data[['loan_status','score']].sort_values('score').reset_index().drop('index',axis=1)\n",
    "td"
   ]
  },
  {
   "cell_type": "markdown",
   "metadata": {},
   "source": [
    "### Finding the first mis-classification locations"
   ]
  },
  {
   "cell_type": "code",
   "execution_count": 421,
   "metadata": {},
   "outputs": [
    {
     "data": {
      "text/plain": [
       "64"
      ]
     },
     "execution_count": 421,
     "metadata": {},
     "output_type": "execute_result"
    }
   ],
   "source": [
    "td[td['loan_status']==1].index.min()"
   ]
  },
  {
   "cell_type": "code",
   "execution_count": 1,
   "metadata": {},
   "outputs": [
    {
     "ename": "NameError",
     "evalue": "name 'td' is not defined",
     "output_type": "error",
     "traceback": [
      "\u001b[0;31m---------------------------------------------------------------------------\u001b[0m",
      "\u001b[0;31mNameError\u001b[0m                                 Traceback (most recent call last)",
      "\u001b[0;32m<ipython-input-1-4cef67ec4a66>\u001b[0m in \u001b[0;36m<module>\u001b[0;34m\u001b[0m\n\u001b[0;32m----> 1\u001b[0;31m \u001b[0mtd\u001b[0m\u001b[0;34m[\u001b[0m\u001b[0mtd\u001b[0m\u001b[0;34m[\u001b[0m\u001b[0;34m'loan_status'\u001b[0m\u001b[0;34m]\u001b[0m\u001b[0;34m==\u001b[0m\u001b[0;36m0\u001b[0m\u001b[0;34m]\u001b[0m\u001b[0;34m.\u001b[0m\u001b[0mindex\u001b[0m\u001b[0;34m.\u001b[0m\u001b[0mmax\u001b[0m\u001b[0;34m(\u001b[0m\u001b[0;34m)\u001b[0m\u001b[0;34m\u001b[0m\u001b[0;34m\u001b[0m\u001b[0m\n\u001b[0m",
      "\u001b[0;31mNameError\u001b[0m: name 'td' is not defined"
     ]
    }
   ],
   "source": [
    "td[td['loan_status']==0].index.max()"
   ]
  },
  {
   "cell_type": "code",
   "execution_count": null,
   "metadata": {},
   "outputs": [],
   "source": []
  },
  {
   "cell_type": "markdown",
   "metadata": {},
   "source": [
    "### Find selection boundary for the classification"
   ]
  },
  {
   "cell_type": "code",
   "execution_count": 423,
   "metadata": {},
   "outputs": [
    {
     "data": {
      "text/plain": [
       "0.1520796680100508"
      ]
     },
     "execution_count": 423,
     "metadata": {},
     "output_type": "execute_result"
    }
   ],
   "source": [
    "bd = (td.iloc[64]['score'] + td.iloc[8582]['score'])/2\n",
    "bd"
   ]
  },
  {
   "cell_type": "markdown",
   "metadata": {},
   "source": [
    "### Predicted loan status\n",
    "\n",
    "\n",
    "if score > bd, predicted loan status = 1 else 0."
   ]
  },
  {
   "cell_type": "code",
   "execution_count": 424,
   "metadata": {},
   "outputs": [],
   "source": [
    "train_data['predicted_default'] = np.where(train_data['score']>bd,1,0)"
   ]
  },
  {
   "cell_type": "markdown",
   "metadata": {},
   "source": [
    "### Create metrics to measure classification accuracy"
   ]
  },
  {
   "cell_type": "code",
   "execution_count": 384,
   "metadata": {},
   "outputs": [],
   "source": [
    "def metrics_score(actual, predicted):\n",
    "    print(classification_report(actual, predicted))\n",
    "    cm = confusion_matrix(actual, predicted)\n",
    "    plt.figure(figsize=(8,5))\n",
    "    sns.heatmap(cm, annot=True,  fmt='.2f', xticklabels=['Not Attrite', 'Attrite'], yticklabels=['Not Attrite', 'Attrite'])\n",
    "    plt.ylabel('Actual')\n",
    "    plt.xlabel('Predicted')\n",
    "    plt.show()"
   ]
  },
  {
   "cell_type": "code",
   "execution_count": 425,
   "metadata": {},
   "outputs": [
    {
     "name": "stdout",
     "output_type": "stream",
     "text": [
      "              precision    recall  f1-score   support\n",
      "\n",
      "           0       0.79      0.83      0.81      4487\n",
      "           1       0.81      0.77      0.79      4342\n",
      "\n",
      "    accuracy                           0.80      8829\n",
      "   macro avg       0.80      0.80      0.80      8829\n",
      "weighted avg       0.80      0.80      0.80      8829\n",
      "\n"
     ]
    },
    {
     "data": {
      "image/png": "[encoded data removed]",
      "text/plain": [
       "<Figure size 576x360 with 2 Axes>"
      ]
     },
     "metadata": {
      "needs_background": "light"
     },
     "output_type": "display_data"
    }
   ],
   "source": [
    "metrics_score(train_data['loan_status'].values,\n",
    "              train_data['predicted_default'].values)"
   ]
  },
  {
   "cell_type": "markdown",
   "metadata": {},
   "source": [
    "### Evaluate prediction accuracy on the testing data"
   ]
  },
  {
   "cell_type": "code",
   "execution_count": 431,
   "metadata": {},
   "outputs": [],
   "source": [
    "test_data1['score'] = test_data1[cols].apply(lambda x: cal_score(x,ell),axis=1)"
   ]
  },
  {
   "cell_type": "code",
   "execution_count": 432,
   "metadata": {},
   "outputs": [],
   "source": [
    "test_data1['predicted_default'] = np.where(test_data1['score']>bd,1,0)"
   ]
  },
  {
   "cell_type": "code",
   "execution_count": 433,
   "metadata": {},
   "outputs": [
    {
     "name": "stdout",
     "output_type": "stream",
     "text": [
      "              precision    recall  f1-score   support\n",
      "\n",
      "           0       0.00      0.00      0.00         0\n",
      "           1       1.00      0.78      0.88      1861\n",
      "\n",
      "    accuracy                           0.78      1861\n",
      "   macro avg       0.50      0.39      0.44      1861\n",
      "weighted avg       1.00      0.78      0.88      1861\n",
      "\n"
     ]
    },
    {
     "data": {
      "image/png": "[encoded data removed]",
      "text/plain": [
       "<Figure size 576x360 with 2 Axes>"
      ]
     },
     "metadata": {
      "needs_background": "light"
     },
     "output_type": "display_data"
    }
   ],
   "source": [
    "metrics_score(test_data1['loan_status'].values,\n",
    "              test_data1['predicted_default'].values)"
   ]
  },
  {
   "cell_type": "code",
   "execution_count": 434,
   "metadata": {},
   "outputs": [
    {
     "name": "stdout",
     "output_type": "stream",
     "text": [
      "              precision    recall  f1-score   support\n",
      "\n",
      "           0       1.00      0.83      0.91     17948\n",
      "           1       0.00      0.00      0.00         0\n",
      "\n",
      "    accuracy                           0.83     17948\n",
      "   macro avg       0.50      0.41      0.45     17948\n",
      "weighted avg       1.00      0.83      0.91     17948\n",
      "\n"
     ]
    },
    {
     "data": {
      "image/png": "[encoded data removed]",
      "text/plain": [
       "<Figure size 576x360 with 2 Axes>"
      ]
     },
     "metadata": {
      "needs_background": "light"
     },
     "output_type": "display_data"
    }
   ],
   "source": [
    "test_data0['score'] = test_data0[cols].apply(lambda x: cal_score(x,ell),axis=1)\n",
    "test_data0['predicted_default'] = np.where(test_data0['score']>bd,1,0)\n",
    "metrics_score(test_data0['loan_status'].values,\n",
    "              test_data0['predicted_default'].values)"
   ]
  },
  {
   "cell_type": "markdown",
   "metadata": {},
   "source": [
    "## Logistic Regression Analysis"
   ]
  },
  {
   "cell_type": "code",
   "execution_count": 436,
   "metadata": {},
   "outputs": [],
   "source": [
    "Y_train = train_data['loan_status'].values\n",
    "X_train = train_data[cols].values"
   ]
  },
  {
   "cell_type": "code",
   "execution_count": 437,
   "metadata": {},
   "outputs": [],
   "source": [
    "clf = LogisticRegression(random_state=0).fit(X_train, Y_train)"
   ]
  },
  {
   "cell_type": "code",
   "execution_count": 438,
   "metadata": {},
   "outputs": [],
   "source": [
    "predict_status = clf.predict(X_train)"
   ]
  },
  {
   "cell_type": "code",
   "execution_count": 439,
   "metadata": {},
   "outputs": [
    {
     "name": "stdout",
     "output_type": "stream",
     "text": [
      "              precision    recall  f1-score   support\n",
      "\n",
      "           0       0.79      0.83      0.81      4487\n",
      "           1       0.82      0.77      0.79      4342\n",
      "\n",
      "    accuracy                           0.80      8829\n",
      "   macro avg       0.80      0.80      0.80      8829\n",
      "weighted avg       0.80      0.80      0.80      8829\n",
      "\n"
     ]
    },
    {
     "data": {
      "image/png": "[encoded data removed]",
      "text/plain": [
       "<Figure size 576x360 with 2 Axes>"
      ]
     },
     "metadata": {
      "needs_background": "light"
     },
     "output_type": "display_data"
    }
   ],
   "source": [
    "metrics_score(Y_train, predict_status)"
   ]
  },
  {
   "cell_type": "markdown",
   "metadata": {},
   "source": [
    "### Prediction on Class 1"
   ]
  },
  {
   "cell_type": "code",
   "execution_count": 440,
   "metadata": {},
   "outputs": [],
   "source": [
    "X_test1 = test_data1[cols].values"
   ]
  },
  {
   "cell_type": "code",
   "execution_count": 441,
   "metadata": {},
   "outputs": [
    {
     "data": {
      "text/plain": [
       "array([1, 1, 1, ..., 1, 1, 1])"
      ]
     },
     "execution_count": 441,
     "metadata": {},
     "output_type": "execute_result"
    }
   ],
   "source": [
    "Y_test1 = test_data1['loan_status'].values\n",
    "Y_test1"
   ]
  },
  {
   "cell_type": "code",
   "execution_count": 442,
   "metadata": {},
   "outputs": [
    {
     "name": "stdout",
     "output_type": "stream",
     "text": [
      "              precision    recall  f1-score   support\n",
      "\n",
      "           0       0.00      0.00      0.00         0\n",
      "           1       1.00      0.79      0.88      1861\n",
      "\n",
      "    accuracy                           0.79      1861\n",
      "   macro avg       0.50      0.39      0.44      1861\n",
      "weighted avg       1.00      0.79      0.88      1861\n",
      "\n"
     ]
    },
    {
     "data": {
      "image/png": "[encoded data removed]",
      "text/plain": [
       "<Figure size 576x360 with 2 Axes>"
      ]
     },
     "metadata": {
      "needs_background": "light"
     },
     "output_type": "display_data"
    }
   ],
   "source": [
    "predict_status1 = clf.predict(X_test1)\n",
    "metrics_score(Y_test1, predict_status1)"
   ]
  },
  {
   "cell_type": "markdown",
   "metadata": {},
   "source": [
    "### Prediction on Class 0"
   ]
  },
  {
   "cell_type": "code",
   "execution_count": 443,
   "metadata": {},
   "outputs": [],
   "source": [
    "X_test0 = test_data0[cols].values\n",
    "Y_test0 = test_data0['loan_status'].values"
   ]
  },
  {
   "cell_type": "code",
   "execution_count": 444,
   "metadata": {},
   "outputs": [
    {
     "name": "stdout",
     "output_type": "stream",
     "text": [
      "              precision    recall  f1-score   support\n",
      "\n",
      "           0       1.00      0.83      0.91     17948\n",
      "           1       0.00      0.00      0.00         0\n",
      "\n",
      "    accuracy                           0.83     17948\n",
      "   macro avg       0.50      0.41      0.45     17948\n",
      "weighted avg       1.00      0.83      0.91     17948\n",
      "\n"
     ]
    },
    {
     "data": {
      "image/png": "[encoded data removed]",
      "text/plain": [
       "<Figure size 576x360 with 2 Axes>"
      ]
     },
     "metadata": {
      "needs_background": "light"
     },
     "output_type": "display_data"
    }
   ],
   "source": [
    "predict_status0 = clf.predict(X_test0)\n",
    "metrics_score(Y_test0, predict_status0)"
   ]
  },
  {
   "cell_type": "code",
   "execution_count": null,
   "metadata": {},
   "outputs": [],
   "source": []
  }
 ],
 "metadata": {
  "kernelspec": {
   "display_name": "Python 3",
   "language": "python",
   "name": "python3"
  },
  "language_info": {
   "codemirror_mode": {
    "name": "ipython",
    "version": 3
   },
   "file_extension": ".py",
   "mimetype": "text/x-python",
   "name": "python",
   "nbconvert_exporter": "python",
   "pygments_lexer": "ipython3",
   "version": "3.7.6"
  }
 },
 "nbformat": 4,
 "nbformat_minor": 5
}
