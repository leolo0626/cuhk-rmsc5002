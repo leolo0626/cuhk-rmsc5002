{
 "cells": [
  {
   "cell_type": "code",
   "execution_count": 20,
   "metadata": {},
   "outputs": [],
   "source": [
    "import pandas as pd\n",
    "import numpy as np\n",
    "import math"
   ]
  },
  {
   "cell_type": "code",
   "execution_count": 2,
   "metadata": {},
   "outputs": [],
   "source": [
    "cov = np.array([0.25, 0.1, 0.03, 0.1, 0.16, 0.048, 0.03, 0.048, 0.09]).reshape((3,3))"
   ]
  },
  {
   "cell_type": "code",
   "execution_count": 3,
   "metadata": {},
   "outputs": [],
   "source": [
    "mean_ret = np.array([0.08, 0.05, 0.03])"
   ]
  },
  {
   "cell_type": "code",
   "execution_count": 4,
   "metadata": {},
   "outputs": [],
   "source": [
    "target_return = 0.06"
   ]
  },
  {
   "cell_type": "code",
   "execution_count": 6,
   "metadata": {},
   "outputs": [],
   "source": [
    "def lagrangian_multiplier_solver(x_bar, cov_matrix, target_return):\n",
    "    n = len(x_bar) # number of assets\n",
    "    A = np.hstack((np.vstack((cov_matrix, x_bar, np.ones(n))), \n",
    "                   np.vstack((x_bar.reshape(n,1), np.zeros((2,1)))),\n",
    "                   np.vstack((np.ones((n,1)), np.zeros((2, 1))))))\n",
    "    b =  np.vstack((np.zeros((n,1)), [[target_return]], [[1]]))\n",
    "    return np.linalg.inv(A).dot(b)\n",
    "                   \n",
    "    "
   ]
  },
  {
   "cell_type": "code",
   "execution_count": 9,
   "metadata": {},
   "outputs": [],
   "source": [
    "params = lagrangian_multiplier_solver(mean_ret, cov, target_return)"
   ]
  },
  {
   "cell_type": "code",
   "execution_count": 10,
   "metadata": {},
   "outputs": [
    {
     "data": {
      "text/plain": [
       "array([[ 0.53406593],\n",
       "       [ 0.16483516],\n",
       "       [ 0.3010989 ],\n",
       "       [-2.16      ],\n",
       "       [ 0.01376703]])"
      ]
     },
     "execution_count": 10,
     "metadata": {},
     "output_type": "execute_result"
    }
   ],
   "source": [
    "params"
   ]
  },
  {
   "cell_type": "code",
   "execution_count": 21,
   "metadata": {},
   "outputs": [
    {
     "data": {
      "text/plain": [
       "0.3403424261430936"
      ]
     },
     "execution_count": 21,
     "metadata": {},
     "output_type": "execute_result"
    }
   ],
   "source": [
    "math.sqrt(params[0:3].T.dot(cov).dot(params[0:3]))"
   ]
  }
 ],
 "metadata": {
  "kernelspec": {
   "display_name": "Python 3",
   "language": "python",
   "name": "python3"
  },
  "language_info": {
   "codemirror_mode": {
    "name": "ipython",
    "version": 3
   },
   "file_extension": ".py",
   "mimetype": "text/x-python",
   "name": "python",
   "nbconvert_exporter": "python",
   "pygments_lexer": "ipython3",
   "version": "3.7.6"
  }
 },
 "nbformat": 4,
 "nbformat_minor": 4
}
